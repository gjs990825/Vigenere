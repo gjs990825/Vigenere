{
 "cells": [
  {
   "cell_type": "markdown",
   "source": [
    "# Vigenère cipher\n",
    "Vigenere encryption, decryption and ciphertext-only attack in python. [@gjs990825](https://github.com/gjs990825)\n",
    "Check [Vigenère cipher](https://en.wikipedia.org/wiki/Vigen%C3%A8re_cipher) on Wikipedia for more information."
   ],
   "metadata": {
    "collapsed": false,
    "pycharm": {
     "name": "#%% md\n"
    }
   }
  },
  {
   "cell_type": "markdown",
   "source": [
    "___\n",
    "## Part 1. Encryption and decryption"
   ],
   "metadata": {
    "collapsed": false,
    "pycharm": {
     "name": "#%% md\n"
    }
   }
  },
  {
   "cell_type": "markdown",
   "source": [
    "### The code"
   ],
   "metadata": {
    "collapsed": false,
    "pycharm": {
     "name": "#%% md\n"
    }
   }
  },
  {
   "cell_type": "code",
   "execution_count": 1,
   "metadata": {
    "collapsed": true,
    "pycharm": {
     "name": "#%%\n"
    }
   },
   "outputs": [],
   "source": [
    "from dataclasses import dataclass\n",
    "from itertools import cycle, starmap\n",
    "\n",
    "# constants\n",
    "A = ord('A')\n",
    "MAX_KEY_LENGTH = 50\n",
    "MAX_KEY_CANDIDATE = 10\n",
    "MAX_DUPLICATED_PART = 0.7\n",
    "\n",
    "# frequency taken from https://en.wikipedia.org/wiki/Letter_frequency\n",
    "FREQ_ENGLISH = [0.08167, 0.01492, 0.02782, 0.04253, 0.12702, 0.02228,\n",
    "                0.02015, 0.06094, 0.06966, 0.00153, 0.00772, 0.04025,\n",
    "                0.02406, 0.06749, 0.07507, 0.01929, 0.00095, 0.05987,\n",
    "                0.06327, 0.09056, 0.02758, 0.00978, 0.0236, 0.0015,\n",
    "                0.01974, 0.00074]\n",
    "# IC(index of coincidence) expected for english\n",
    "IC_ENGLISH = sum(f * f for f in FREQ_ENGLISH) * 26\n",
    "\n",
    "\n",
    "def alpha_only(text):  # -> str:\n",
    "    \"\"\" get all capitalized alpha only text \"\"\"\n",
    "    return ''.join(filter(lambda c: c.isalpha(), text)).upper()\n",
    "\n",
    "\n",
    "class Vigenere:\n",
    "    def __init__(self, keyword: str):\n",
    "        self.keyword = alpha_only(keyword)\n",
    "\n",
    "    @staticmethod\n",
    "    def get_cipher(p, k):  # -> str:\n",
    "        \"\"\" encrypt character p using character k as key \"\"\"\n",
    "        return chr(A + ((ord(p) - A) + (ord(k) - A)) % 26)\n",
    "\n",
    "    @staticmethod\n",
    "    def get_plain(c, k):  # -> str:\n",
    "        \"\"\" decrypt character c using character k \"\"\"\n",
    "        return chr(A + ((ord(c) - A) - (ord(k) - A)) % 26)\n",
    "\n",
    "    @staticmethod\n",
    "    def extract_extra(text):\n",
    "        \"\"\" extract spaces and other non-alpha character's positional information \"\"\"\n",
    "        return list(filter(lambda x: not x[1].isalpha(), enumerate(text)))\n",
    "\n",
    "    @staticmethod\n",
    "    def add_extra(text, extra):\n",
    "        text = list(text)\n",
    "        for e in extra:\n",
    "            text.insert(*e)\n",
    "        return ''.join(text)\n",
    "\n",
    "    def encrypt(self, plain_text, keep_extra=False):  # -> str:\n",
    "        extra = self.extract_extra(plain_text) if keep_extra else []\n",
    "        plain_text = alpha_only(plain_text)\n",
    "        cipher_text = ''.join(starmap(self.get_cipher, zip(plain_text, cycle(self.keyword))))\n",
    "        return self.add_extra(cipher_text, extra) if extra else cipher_text\n",
    "\n",
    "    def decrypt(self, cipher_text, keep_extra=False):  # -> str:\n",
    "        extra = self.extract_extra(cipher_text) if keep_extra else []\n",
    "        cipher_text = alpha_only(cipher_text)\n",
    "        plain_text = ''.join(starmap(self.get_plain, zip(cipher_text, cycle(self.keyword))))\n",
    "        return self.add_extra(plain_text, extra) if extra else plain_text\n",
    "\n",
    "    def encrypt_file(self, in_path, out_path, keep_extra=True):\n",
    "        with open(in_path, 'r') as in_file, open(out_path, 'w') as out_file:\n",
    "            cipher_text = self.encrypt(in_file.read(), keep_extra)\n",
    "            out_file.write(cipher_text)\n",
    "\n",
    "    def decrypt_file(self, in_path, out_path, keep_extra=True):\n",
    "        with open(in_path, 'r') as in_file, open(out_path, 'w') as out_file:\n",
    "            plain_text = self.decrypt(in_file.read(), keep_extra)\n",
    "            out_file.write(plain_text)"
   ]
  },
  {
   "cell_type": "markdown",
   "source": [
    "### Load test example"
   ],
   "metadata": {
    "collapsed": false,
    "pycharm": {
     "name": "#%% md\n"
    }
   }
  },
  {
   "cell_type": "code",
   "execution_count": 2,
   "outputs": [
    {
     "name": "stdout",
     "output_type": "stream",
     "text": [
      "Differential Privacy is the state-of-the-art goal for the problem of privacy-preserving data release and privacy-preserving data mining. Existing techniques using differential privacy, however, cannot effectively handle the publication of high-dimensional data. In particular, when the input dataset contains a large number of attributes, existing methods incur higher computing complexity and lower information to noise ratio, which renders the published data next to useless. This proposal aims to reduce computing complexity and signal to noise ratio. The starting point is to approximate the full distribution of high-dimensional dataset with a set of low-dimensional marginal distributions via optimizing score function and reducing sensitivity, in which generation of noisy conditional distributions with differential privacy is computed in a set of low-dimensional subspaces, and then, the sample tuples from the noisy approximation distribution are used to generate and release the synthetic dataset. Some crucial science problems would be investigated below: (i) constructing a low k-degree Bayesian network over the high-dimensional dataset via exponential mechanism in differential privacy, where the score function is optimized to reduce the sensitivity using mutual information, equivalence classes in maximum joint distribution and dynamic programming; (ii)studying the algorithm to compute a set of noisy conditional distributions from joint distributions in the subspace of Bayesian network, via the Laplace mechanism of differential privacy. (iii)exploring how to generate synthetic data from the differentially private Bayesian network and conditional distributions, without explicitly materializing the noisy global distribution. The proposed solution may have theoretical and technical significance for synthetic data generation with differential privacy on business prospects.\n"
     ]
    }
   ],
   "source": [
    "try:\n",
    "    with open('original.txt', 'r') as f:\n",
    "        original_text = f.read()\n",
    "except FileNotFoundError as e:\n",
    "    print(e)\n",
    "    original_text = ''\n",
    "\n",
    "print(original_text)"
   ],
   "metadata": {
    "collapsed": false,
    "pycharm": {
     "name": "#%%\n"
    }
   }
  },
  {
   "cell_type": "markdown",
   "source": [
    "### Encryption and decryption test"
   ],
   "metadata": {
    "collapsed": false,
    "pycharm": {
     "name": "#%% md\n"
    }
   }
  },
  {
   "cell_type": "code",
   "execution_count": 4,
   "outputs": [
    {
     "data": {
      "text/plain": "('LVKTWVGVGNODTTQIFQQMUBUJGLEVMBKHZICZGLCSPHWEYVWTTWOQSESHXENJSGAXEJGWVXQALRSXCZRQSSWGIAIDJMXIPDDJIUMEAWFKFIGFAARKVTJLAWVQALHWGJVVVIWWWAVSUVMHNRWSFXKIYUFAZCKLMCOIXMEHOFRQBRKTWGVQIJZQLCVQQSLLGXHGZAGCBVTBGJJQTMRAQGVFNCFENLNYOARRIEYWUYNIEBVWRVPRNBHYVLNYOKIVKBSHSMPANQOJKGVHRPWVQNNYHJMDCGJGWBKAGNBYQGBUTRKMPKHWVAKJMEHCETWBVSUUSOXYJLAXAIAIZGAGZVSTGVOIGNCFXQVBNGWVCBVTKZMEPEJBVITAGMSHYDTVXVWHFIGFBWBVBBZGWPGAFYVAWRZBUCKENIVRGLSTMQZQWGQUCZHARIKBRDDIZQGDOFHUQTSODXQVBNGWVCBVTHZIUBNWHARIXBNBLMUBBFDHVQFVROLIVPRKIDPFQFYFAFWBVTBGJJQTMRAQGVFNCFENLNYOKIVEVYVSWGBBKZGAFQZJBKMQVNQASVIQAFZVMUBENPMXKWAXJAEQXGNAADKVTXQGVGNHSQLMQVNSRJIFCPNBYWGVFNHAZKBLNBOLKKULSFITIGNCFSHVBNGQGQVQNHASPIYIWKXTQOZHASPAJNHZHKNSJFWRVQNQDJMXIPDWKGQUCZHWHKVNXSLSHTBBRAQGVFNCFENAHGGHEEMFFBVXJMAYVWWCUCQSLYRTRXTJSOBUJBGMUGNUDJSZQZFHASPLVXHJMDCGNCFETMHXSVXQORSSJEVMNSRJINMNXSLLGALSHZIVQPIOLEUMGXCEIEZHHWSPUKVJBUIRZBGZWQUEBZZVFGQAASKXKONYSVFGTBBWUSPAGWIUXKVTFZGAMLRLFWIDILJGAEPVRYKGVMWIJFLLGPVLVVMOMAXWGRCTQFHSWGBINOWBRWAJBLMCTZJQZEPQFRWFHKNSJFWRVQNQDJMXIPDKZITMGMSKGQZRKIFGVQBSWKSRBVRWRIFBBWSVYEMGMSKIPAVYWNMVGHXWFKOCGZODMPNBWASXKWAJEMMXIYJBUIETNXGWWKVZFLAQWUWTWFXFQFYFAFWBVTBSRFLLSOEMEXETUJEOUVSUAMUBHIMARIBUJODKQZVYVEXQKBRDMXGIFJHGJPWVXMUSPLVYWGRCTQNGLVKJHYWGRUNETABSKVGIWKXTQOZHASPAVSHZIUCOXDSGGWSGOQIUQNSBWXYWEPJAEVPRQOHPCKRRSULCVVXAGJFQSKSJIPBVFZHVKDNHMAMKMKUZGVKVTMCOXQORSSJEVMFDBLLGBVHRSXCNETALLGLVKTWVGVGNODPAXENJSXGJNDSKMCVAJHOSTSNSRUSPLVYWGRCTQNGLVKJHYWGRUEVYVGYVMKUZAGKBYDASXGZVFZADKVTYVWRQQFDUDSDIYIWKXTQOZHASPBUJDJSRWFJRKSNCGNCFQCGUFJWXJMBWSLMEIYFBVXGKUSWUENAVLBAJKKNSQWJQZFDBLLGBVHRSXCORSSJEVQBSKAXJLVKTWVGVGNODTTQIFQQSPJHXWFIUACWCKTGKGX',\n 'DIFFERENTIALPRIVACYISTHESTATEOFTHEARTGOALFORTHEPROBLEMOFPRIVACYPRESERVINGDATARELEASEANDPRIVACYPRESERVINGDATAMININGEXISTINGTECHNIQUESUSINGDIFFERENTIALPRIVACYHOWEVERCANNOTEFFECTIVELYHANDLETHEPUBLICATIONOFHIGHDIMENSIONALDATAINPARTICULARWHENTHEINPUTDATASETCONTAINSALARGENUMBEROFATTRIBUTESEXISTINGMETHODSINCURHIGHERCOMPUTINGCOMPLEXITYANDLOWERINFORMATIONTONOISERATIOWHICHRENDERSTHEPUBLISHEDDATANEXTTOUSELESSTHISPROPOSALAIMSTOREDUCECOMPUTINGCOMPLEXITYANDSIGNALTONOISERATIOTHESTARTINGPOINTISTOAPPROXIMATETHEFULLDISTRIBUTIONOFHIGHDIMENSIONALDATASETWITHASETOFLOWDIMENSIONALMARGINALDISTRIBUTIONSVIAOPTIMIZINGSCOREFUNCTIONANDREDUCINGSENSITIVITYINWHICHGENERATIONOFNOISYCONDITIONALDISTRIBUTIONSWITHDIFFERENTIALPRIVACYISCOMPUTEDINASETOFLOWDIMENSIONALSUBSPACESANDTHENTHESAMPLETUPLESFROMTHENOISYAPPROXIMATIONDISTRIBUTIONAREUSEDTOGENERATEANDRELEASETHESYNTHETICDATASETSOMECRUCIALSCIENCEPROBLEMSWOULDBEINVESTIGATEDBELOWICONSTRUCTINGALOWKDEGREEBAYESIANNETWORKOVERTHEHIGHDIMENSIONALDATASETVIAEXPONENTIALMECHANISMINDIFFERENTIALPRIVACYWHERETHESCOREFUNCTIONISOPTIMIZEDTOREDUCETHESENSITIVITYUSINGMUTUALINFORMATIONEQUIVALENCECLASSESINMAXIMUMJOINTDISTRIBUTIONANDDYNAMICPROGRAMMINGIISTUDYINGTHEALGORITHMTOCOMPUTEASETOFNOISYCONDITIONALDISTRIBUTIONSFROMJOINTDISTRIBUTIONSINTHESUBSPACEOFBAYESIANNETWORKVIATHELAPLACEMECHANISMOFDIFFERENTIALPRIVACYIIIEXPLORINGHOWTOGENERATESYNTHETICDATAFROMTHEDIFFERENTIALLYPRIVATEBAYESIANNETWORKANDCONDITIONALDISTRIBUTIONSWITHOUTEXPLICITLYMATERIALIZINGTHENOISYGLOBALDISTRIBUTIONTHEPROPOSEDSOLUTIONMAYHAVETHEORETICALANDTECHNICALSIGNIFICANCEFORSYNTHETICDATAGENERATIONWITHDIFFERENTIALPRIVACYONBUSINESSPROSPECTS')"
     },
     "execution_count": 4,
     "metadata": {},
     "output_type": "execute_result"
    }
   ],
   "source": [
    "v = Vigenere('infosec')\n",
    "# cipher_text = v.encrypt(original_text, keep_extra=True)\n",
    "cipher_text = v.encrypt(original_text)\n",
    "decrypted_text = v.decrypt(cipher_text, keep_extra=True)\n",
    "cipher_text, decrypted_text"
   ],
   "metadata": {
    "collapsed": false,
    "pycharm": {
     "name": "#%%\n"
    }
   }
  },
  {
   "cell_type": "markdown",
   "source": [
    "### File operations"
   ],
   "metadata": {
    "collapsed": false,
    "pycharm": {
     "name": "#%% md\n"
    }
   }
  },
  {
   "cell_type": "code",
   "execution_count": 39,
   "outputs": [],
   "source": [
    "v = Vigenere('infosec')\n",
    "v.encrypt_file('original.txt', 'encrypted.txt', keep_extra=True)\n",
    "v.decrypt_file('encrypted.txt', 'decrypted.txt', keep_extra=True)"
   ],
   "metadata": {
    "collapsed": false,
    "pycharm": {
     "name": "#%%\n"
    }
   }
  },
  {
   "cell_type": "markdown",
   "source": [
    "---\n",
    "## Part 2. Ciphertext-only attack\n",
    "Based on [index of coincidence](https://en.wikipedia.org/wiki/Index_of_coincidence) technique, see [example section](https://en.wikipedia.org/wiki/Index_of_coincidence#Example) for details."
   ],
   "metadata": {
    "collapsed": false,
    "pycharm": {
     "name": "#%% md\n"
    }
   }
  },
  {
   "cell_type": "code",
   "execution_count": 6,
   "outputs": [],
   "source": [
    "def index_of_coincidence(text):  # -> float:\n",
    "    \"\"\" calculate IC(index of coincidence) of given string sequence\n",
    "    Check this for details: https://en.wikipedia.org/wiki/Index_of_coincidence\"\"\"\n",
    "    n = len(text)\n",
    "    if n <= 1:\n",
    "        return 26  # or should I raise an error here?\n",
    "    counts = [0 for _ in range(26)]\n",
    "    for c in text:\n",
    "        counts[ord(c) - A] += 1\n",
    "    return sum(c * (c - 1) for c in counts) / (n * (n - 1) / 26)\n",
    "\n",
    "\n",
    "def group_with_length(text, n):  # -> list[list[str]]:\n",
    "    \"\"\" i_th item falls into (i % length)_th group \"\"\"\n",
    "    results = [[] for _ in range(n)]\n",
    "    for i, c in enumerate(text):\n",
    "        results[i % n].append(c)\n",
    "    return results\n",
    "\n",
    "\n",
    "@dataclass(frozen=True)\n",
    "class KeyInfo:\n",
    "    length: int\n",
    "    ic: float\n",
    "\n",
    "\n",
    "@dataclass(frozen=True)\n",
    "class Key:\n",
    "    key: str\n",
    "    ic: float\n",
    "\n",
    "\n",
    "def guess_key_length(text):  # -> list[KeyInfo]:\n",
    "    \"\"\" compare AVERAGE IC of every key length in [1, MAX_KEY_LENGTH),\n",
    "     return the top MAX_KEY_CANDIDATE ones close to IC_ENGLISH \"\"\"\n",
    "    key_info = []\n",
    "    for length in range(1, min(MAX_KEY_LENGTH, len(text))):\n",
    "        substrings = group_with_length(text, length)\n",
    "        average_ic = sum(index_of_coincidence(ss) for ss in substrings) / len(substrings)\n",
    "        key_info.append(KeyInfo(length, average_ic))\n",
    "    return sorted(key_info, key=lambda x: abs(x.ic - IC_ENGLISH))[:10]\n",
    "\n",
    "\n",
    "def correlation_of(text):  # -> float:\n",
    "    \"\"\" correlation between the text letter frequencies and the relative letter frequencies for normal English text \"\"\"\n",
    "    n = len(text)\n",
    "    counts = [0] * 26\n",
    "    for c in text:\n",
    "        counts[ord(c) - A] += 1\n",
    "    return sum(counts[i] / n * FREQ_ENGLISH[i] for i in range(26))\n",
    "\n",
    "\n",
    "def get_single_key(text):  # -> str:\n",
    "    \"\"\" test every character as key for given text, use the one that has the highest correlation \"\"\"\n",
    "    correlations, max_idx = [], 0\n",
    "    for i in range(26):\n",
    "        v = Vigenere(chr(A + i))\n",
    "        correlations.append(correlation_of(v.decrypt(text)))\n",
    "        if correlations[i] > correlations[max_idx]:\n",
    "            max_idx = i\n",
    "    return chr(A + max_idx)"
   ],
   "metadata": {
    "collapsed": false,
    "pycharm": {
     "name": "#%%\n"
    }
   }
  },
  {
   "cell_type": "code",
   "execution_count": 9,
   "outputs": [],
   "source": [
    "def crack_virginia(cipher_text, keep_extra=True, save_to=None):  # -> list[Key]:\n",
    "    extra = Vigenere.extract_extra(cipher_text) if keep_extra else []\n",
    "    cipher_text, keys = alpha_only(cipher_text), []\n",
    "\n",
    "    # try all possible key length, find their corresponding keys\n",
    "    for key_info in guess_key_length(cipher_text):\n",
    "        substrings = group_with_length(cipher_text, key_info.length)\n",
    "        key = Key(''.join(get_single_key(ss) for ss in substrings), key_info.ic)\n",
    "        print(f'Key length {key_info.length}, IC = {key_info.ic:.3f}: {key.key}')\n",
    "        keys.append(key)\n",
    "\n",
    "    # add extra information back\n",
    "    cipher_text = Vigenere.add_extra(cipher_text, extra)\n",
    "\n",
    "    # remove similar(the ones have duplicated part bigger than MAX_DUPLICATED_PART) keys\n",
    "    copy, keep = sorted(keys, key=lambda k: len(k.key)), []\n",
    "    while len(copy) > 1:\n",
    "        drop = False\n",
    "        for other in copy[:-1]:\n",
    "            original = len(copy[-1].key)\n",
    "            processed = len(copy[-1].key.replace(other.key, ''))\n",
    "            if (1 - processed / original) > MAX_DUPLICATED_PART:\n",
    "                drop = True\n",
    "                break\n",
    "        if not drop:\n",
    "            keep.insert(0, copy[-1])\n",
    "        copy.pop()\n",
    "    keep.extend(copy)\n",
    "    keys = list(filter(lambda k: k in keep, keys))\n",
    "\n",
    "    # save decoding results\n",
    "    if save_to:\n",
    "        with open(save_to, 'w') as save_file:\n",
    "            for key in keys:\n",
    "                save_file.write(f'Decrypt using {key}:\\n')\n",
    "                v = Vigenere(key.key)\n",
    "                save_file.write(v.decrypt(cipher_text, keep_extra))\n",
    "                save_file.write('\\n\\n')\n",
    "            print(f'check file {save_to} for cracking results')\n",
    "    # or print them\n",
    "    else:\n",
    "        for key in keys:\n",
    "            print(f'Decrypt using {key}:')\n",
    "            v = Vigenere(key.key)\n",
    "            print(v.decrypt(cipher_text, keep_extra), end='\\n\\n')\n",
    "    return keys"
   ],
   "metadata": {
    "collapsed": false,
    "pycharm": {
     "name": "#%%\n"
    }
   }
  },
  {
   "cell_type": "markdown",
   "source": [
    "### Breaking the example cipher"
   ],
   "metadata": {
    "collapsed": false,
    "pycharm": {
     "name": "#%% md\n"
    }
   }
  },
  {
   "cell_type": "code",
   "execution_count": 7,
   "outputs": [
    {
     "name": "stdout",
     "output_type": "stream",
     "text": [
      "Key length 7, IC = 1.711: INFOSEC\n",
      "Key length 28, IC = 1.713: INFOSECINFOSECINFOSECINFOSEC\n",
      "Key length 14, IC = 1.713: INFOSECINFOSEC\n",
      "Key length 21, IC = 1.684: INFOSECINFOSECINFOSEC\n",
      "Key length 35, IC = 1.676: INFOSECINFOSECINFOSECINFOSECINFOSEC\n",
      "Key length 42, IC = 1.669: INFOSECINFOSECINFOSECINFOSECINFOSECINUOSEC\n",
      "Key length 49, IC = 1.624: XNFOSECINFOSECINFOSECINFOSECINFOSECINFOSECINFOSEC\n",
      "Key length 30, IC = 1.137: SCOOSSJSCEOANRSNNICWJOSNODPXNB\n",
      "Key length 40, IC = 1.122: SCDNPSJJCRTROASOCIZQUSSESECDRXJHIIGOTOCN\n",
      "Key length 29, IC = 1.119: WDOERNOSCCRUCNJASJCOCXIODIPIN\n",
      "Decrypt using Key(key='INFOSEC', ic=1.711004490531436):\n",
      "DIFFERENTIAL PRIVACY IS THE STATE-OF-THE-ART GOAL FOR THE PROBLEM OF PRIVACY-PRESERVING DATA RELEASE AND PRIVACY-PRESERVING DATA MINING. EXISTING TECHNIQUES USING DIFFERENTIAL PRIVACY, HOWEVER, CANNOT EFFECTIVELY HANDLE THE PUBLICATION OF HIGH-DIMENSIONAL DATA. IN PARTICULAR, WHEN THE INPUT DATASET CONTAINS A LARGE NUMBER OF ATTRIBUTES, EXISTING METHODS INCUR HIGHER COMPUTING COMPLEXITY AND LOWER INFORMATION TO NOISE RATIO, WHICH RENDERS THE PUBLISHED DATA NEXT TO USELESS. THIS PROPOSAL AIMS TO REDUCE COMPUTING COMPLEXITY AND SIGNAL TO NOISE RATIO. THE STARTING POINT IS TO APPROXIMATE THE FULL DISTRIBUTION OF HIGH-DIMENSIONAL DATASET WITH A SET OF LOW-DIMENSIONAL MARGINAL DISTRIBUTIONS VIA OPTIMIZING SCORE FUNCTION AND REDUCING SENSITIVITY, IN WHICH GENERATION OF NOISY CONDITIONAL DISTRIBUTIONS WITH DIFFERENTIAL PRIVACY IS COMPUTED IN A SET OF LOW-DIMENSIONAL SUBSPACES, AND THEN, THE SAMPLE TUPLES FROM THE NOISY APPROXIMATION DISTRIBUTION ARE USED TO GENERATE AND RELEASE THE SYNTHETIC DATASET. SOME CRUCIAL SCIENCE PROBLEMS WOULD BE INVESTIGATED BELOW: (I) CONSTRUCTING A LOW K-DEGREE BAYESIAN NETWORK OVER THE HIGH-DIMENSIONAL DATASET VIA EXPONENTIAL MECHANISM IN DIFFERENTIAL PRIVACY, WHERE THE SCORE FUNCTION IS OPTIMIZED TO REDUCE THE SENSITIVITY USING MUTUAL INFORMATION, EQUIVALENCE CLASSES IN MAXIMUM JOINT DISTRIBUTION AND DYNAMIC PROGRAMMING; (II)STUDYING THE ALGORITHM TO COMPUTE A SET OF NOISY CONDITIONAL DISTRIBUTIONS FROM JOINT DISTRIBUTIONS IN THE SUBSPACE OF BAYESIAN NETWORK, VIA THE LAPLACE MECHANISM OF DIFFERENTIAL PRIVACY. (III)EXPLORING HOW TO GENERATE SYNTHETIC DATA FROM THE DIFFERENTIALLY PRIVATE BAYESIAN NETWORK AND CONDITIONAL DISTRIBUTIONS, WITHOUT EXPLICITLY MATERIALIZING THE NOISY GLOBAL DISTRIBUTION. THE PROPOSED SOLUTION MAY HAVE THEORETICAL AND TECHNICAL SIGNIFICANCE FOR SYNTHETIC DATA GENERATION WITH DIFFERENTIAL PRIVACY ON BUSINESS PROSPECTS.\n",
      "\n",
      "Decrypt using Key(key='SCOOSSJSCEOANRSNNICWJOSNODPXNB', ic=1.1365478686233401):\n",
      "TTWFEDXDEJAD GCYVSIO QL NCW SIPYZ-AS-FLU-KHX TAOB HJN GIJ LRAFCAR EE IHAIAEM-JMRXETTCAY AAKP RPUJEET UXT GWLFGBP-LRZCKAMWST NVTX YEIWDG. VILZIPIJ TIORMDTEIW JJDFH NKLEDEFRUVLL TNYLOST, DKMEJMR, QWSEIZ VBFETHNTMMP TAHCYA CTE TTGMJOPONRF XV RDFJ-CDDFDDZONME TLUA. AE AQRLOSCEUM, OHTC YCQ VZTKD TEGMGUV XKAUFENE E CWWWD GKEOET CZ VGYRKZOGWP, EOXSERSK YTNREUX LXITI DIBRKA TCRCEOIKS YJAFLVILAN HIG LSIOQ DQPSVBROAPX VU MNVTI SNEIS, SXYQX MAJTEFA TVA ULVRZOHEU RFRI OVJT NN HONXEWR. YIJE EMTSGBQV VHOR OF SUOLCE OHCAVTAER SOEVBMQCOQ ACS XDSAMP JY DSVES HCOEB. UMA SFEIPNDF IEAAT KG NJ NUPTMRVEXTV IHP OZPX SCCJINEEZHFJ OA ROPY-RNZOISFAJVZ TAKLVLI DDWH E EOS JI VSA-SZHWOCKUMZY NESTTNEH TYGJMEXKTWWNG RNR IVKEMIQWSE ADFDE ZTAYCUOR ZSE SQSPHLFP IOIRKSDMJJJ, ZN WTBSS HEFVCQTAUD WY HJASN RTIPVFMEXQP QUGJTDXHUNKNE AZPM THYVWEEPHCVY URKTUPQ FS TDMADYIP XH K IVY RP RNN-ZIHOTBZCSNV NUYELVQUS, RYG AWLI, WHI EKLKOO XYECZK GBQS SGR OSJFJ ATLHELYHWPYOB LIGPWZVAKEON RFJ SAFU FO ADAAAMTI ZSE SQAZFVW CXO NXPSCVUYN UATMLUE. TOEV NHUUOQT LWDWNRT UMAOXICC MSHXR RG DJIFXPISEKAI RDEEO: (V) CQBMOEZCVGHT S ION Z-DPPWIQ QUIUJNDX TDKSOMU UEVF YUO CIDT-ZDAUNJTRUPS YDTEEOS QLK IBEFIWODKGK LRDLBATSQ ED TWVAANUNHQAZ LWZPGTU, WHVFJ RPF JOOLD SQWOTMNS JT AEONPAIUN ON TDYLDU EYE SQGITUINZEO UKODO FOOMAA XSAAEYEJSER, RCIYXVHROHA CXEJOJI HG CSKIOIG EBNNV BCFLOISJTTXS EZS XIDRRLM VQFCRVWSREU; (NV)COUAKEIU JHV LONDYDWHQ FY BJPZYXT R NWU YH TNHFZ GPAOIXEEDOB YEOJRWJUHETEM LIKM JFWSR LJJFRCAHPRANW HS UIQ HPGVHJSO JE DZTVTYLE NEFPECL, VAR EXE DGFTTWZ EERWFIUFY SV NYJSQFUPOENM UNIHETU. (NYH)XNHYOTWHB UTW VM ARFBRRIE DHSXTTNSS UFWK LQFI TCO JRWTJEOITFMHGM FRZGDAT IVBEWUKM IHDASGB VFE MQTCHGJSONW DMOJHWRPPEENG, EIHDTLN KOLLITWYJG NRFELHNHRLIRF YIF ZDDXB YUELVK FHNKSYMLTIAG. JSF PJFAESWJ IWEOOAOC BFT TNHI JRUSEQHYEVH NOI PEOLEEHQK LYYAIHWWVAHE HML FQKTYTTTL IEFP AODVWDDONE SIOR JRWTJEOITFMH KFYVRNB VC IPVIRQCR KUYWTTTOK.\n",
      "\n",
      "Decrypt using Key(key='SCDNPSJJCRTROASOCIZQUSSESECDRXJHIIGOTOCN', ic=1.121788617886179):\n",
      "TTHGHDXMEWVM FTYUDIR WA JCF OHCSV-EB-ARA-WLN XAFX FTR JDN KRFVZEE AT VWOTYOI-TMFETEAHTD JMJJ LPDAQTT TIZ UHVERBD-LVGMNOGENG NEEC JDIDNL. DXHITDIJ EJRRMMTRDF IADES NNRTZEONTIFH XWTRUEX, TOMVFKB, UZNIHZ ARCIGDCGBAA RKDMYO JIP AYZRSAOIHRO OH GDEU-IROPCOZCNQL DOIU. IZ NQAWTDBEBW, TPIY HNE VZELG TEPMTPE WBATQEQK T YWFSC TEASNO IF HKOVKQKEGT, HJBREWIH CGJGRJL WVSPS DWIGVH YVWLQNCES HAMULUTROY RHR LGISX NTDMDWEOJAC GT MUFYQ HJNTG, SXJRA MASTRAJ SMA TWVUFDDED NEEC KZSO TT TSDBENN. WSNH ZQSSLRNZ IDDE DT DSYHME CORLCYTJA ENYPBVHODQ ZNY LOCZXP XY HZFHG BKJRB. DXF DEEPZSLU ENLOT KR OM NUYTZMEDOTU THS UOLX BYBWCJINUNLV SQ VOGU-PXDRDWEAOLW XNGAIAW OBGD O ECZ YT CXT-XITVIWKDDLN NDDZHYOG EYUJQLHNHQEIT RWC NGJETSVEHA JOTDE KUDYCDOE UBD JQRAHOLE EORNJFXINSE, FT IXRWS YADFGTOETD BO ENNOC EIWATPIOXEW FFNOMIGTTHENN RLEM SSEJHODAHQVC BBNHOXL SS CORLCYPZ CP Z EEJ FP RYO-CIHXTOULREV MFYHRKMUB, NXT USPR, RNO QOBOOF TWOGCF KAQX IDV BOYSY OEJRAVYVDEJVG ENPBVTPATVAC REU YOQE EZ ARAEHWWW TAZ FQJKKGV CEY SFEOLGIYN FBWMLDE. GJNU EHTFOTZ ASDFJQG OIEXSOIO QILXI NE NNLABOIXUHEV NSRTC: (G) AAXWOSGRGNMM X RAM T-XPYNUF QTTAXYNW EDYSSTE XSPN THO LTIE-YDHESRINDAG YDEFHOS ZLX DKDWIVZDNMZ HRMHANNOU NY ZCHEQRUEDOKD ORDOGYK, TLIBY EET UMYHN SEDDETSL OC MDIHPJZGC OM EJMWNT PYS SUNSWICVURO DVTON FVYRIP TBLOEYPKVER, ACVTGUYRNSA FDTFOSE GT WOORJOM QFDRV SYDVSLNNSTCI BDF TXQGFWK FMPCFCLDYJN; (SE)ONOUKNZG YHU WUBOICHHE FC ITSNSFO E NFF DS SNOPE OEWXTLEEOPE YEXJERSTYESPM OOZI JOSRE FFNOMIGTTHENN DQ EMT CTFVMZPS WA SMIJEWVA XETWTNS, ATW NJD XAFCKIO EDCCTTEEJ SJ NCQCTTOXJRNV FSTGEAE. (SGW)TWSMOTHIE UTF VZ VAESRQTE GNHTTCJRF OBAT GWLU XSS JISRTIRDXEMMWJ JEVVQPH TTLAGUYT XSKFLLK HEY GQCTTVJRZTK OWNUHKRTWOHBA, MDUDCWS VNLSSYENFP YFFEWIQHRUIEA HHW ZCOXE EJALEG EUHGWHHRZUEW. NSW LHPEHNAI IBULSNKR OUH ELRE TRIZTBODXAQ ZNC JEXCQTHPV RMJKHSWKVEOO KAF NLXTHEYEK ILPU IDZEHRDOYF VIOA JERCIVOHEFPN ZBYENMO PY MYQOXCGH OUPSRDXRF.\n",
      "\n",
      "Decrypt using Key(key='WDOERNOSCCRUCNJASJCOCXIODIPIN', ic=1.1186843807533462):\n",
      "PSWPFISDELXJ RGHINHO YS EMV DDPNZ-FH-TVR-PLO JABV FJV YDN RFURIEB KS PRRGECJ-KQREUEDONC RAOA LPTKETY TSV HGYTRCP-LHGDSCNNFS WGSD DSDHNE. BYETHMJY TEEHEBTVNW ERTES YETKJHKSBHUU DSMHAIU, SABZXUV, FADUIN OCEOTZNUFID XKTOZY JYX XPXXMEFTHQT RB WUQY-NJDSDDLLLCA CNGF. YD PLWKTMJFVI, YHSA IBZ LZQET YEYWBGH IEKTPEAS A ULVGP ITZNUE WL APHRDBOEMY, IYCLYAFV CCKHFZI KYQFJ MASAKQ FFWFTTGKH YPATHWXIVY RGG MXAOQ TERJNAFYYUS BN HXWTI DAZEZ, IMDEX VHNTLLM DED ZLHQHTEJT NGEO HUOM BJ QEINJSR. VNLO EDYGYTRZ QTPP RQ GDQHHU SOXULESCA XFOPZRMCOB MON SDKSWU VC TEFST NNTIX. ELE DOZEFYAO VOEBT DS NZ IVTSIQNESIU RYE WQBN OWDLWANNZHRE YV GIEE-EENSROAONCL UTWBBID VTKT V OSY TV RTE-CCVSOWUOTWW YFMIYRDL TPMNBFAEKOTMT SNQ YVEWGYQBVB OOSTJ FTPIWEDZ KEN SVRKNLKE UTMFVYYLIED, ZY GWCXY IEBRGUOLAO YF ISNOH ECTTFTXKAAL MTWTCDAHFYBVY WEHH YIZQMXIONBFD HGYTRCP EI EZAAMYWP BT Z VVD EE LMT-EENSROAONCL JNETYEMDD, RZY PVJS, JNJ AZGYZF XGPRAD RWJO JLH NEPMS KMOBFDNLBQNEX JTGNHZUCOEAR CWE TUKG PD SOEOSRHU LQA PGADNFJ JXE DDEERTNDT FAHNHYO. VANO CMYHEJN GIYBNRA CROKWIMD RNHXT OM ONRSSOIALBKH CYETO: (A) RELJTIQSVTBR S QGI D-JDJIOU AAWBTEBB RALWOTK FOHS CLO GTXT-YEAJSIOTVZF MOUEEEZ RTM JSRERHNJPUF WBBRRTNRN FS TSLQSLUEMQVH BVKAABA, CKAGQ DYO TTCHP IRLEIHBA NI EPENDTJTX OF TERHRY OKQ TONNMYEEKHE KPICC ZUTDLP IYANEYQGQUN, AEUDVUWMTGF WEFKKTI GE MRTYOFA UGNFF WORWISRTTGLO WOR HUFAMKC GKRHAEWLTES; (DE)GYZTENVF NQS BPSOXEETR OQ SSPPKAY U CBS YW TTHTV HEXJTHCEETT YEEXTNBTVORJH RBFW KFWDE GFQVGHOHYYEND NE ERT MPSUPOPT IA EMZOSDES JNVKUHH, VXW GHE ULTLLXD ZQSUITIOA OA DCQNKVFHMNSD EHGMATU. (YKT)SIHQGDBTF KFG JN GCKFNBHI OQNTJEKBF EJXK ECFY ODS INVLJZDHCWBPXY VNTHFOG REBEIPUH XBSGFXP ZOA HEXJTHCEETT YEEXTNBTVORJH, ISKRPLH UISIGEXSYL RQJECNRWSOCIX VHS ADCNB SMYBVP IEBVFORRTXKA. THN AVOAJRRP IBTATECN HAS SIBI UBXTJWIYARL RJT VPQSFNUME YHJESVHCYKDA GCV OQNTJEKBF EJXK FPEQMWHNTD CNBG XRTGIDETPTMQ KTYZDCO VH VEPHXVYX OSLXFOIEG.\n",
      "\n"
     ]
    },
    {
     "data": {
      "text/plain": "[Key(key='INFOSEC', ic=1.711004490531436),\n Key(key='SCOOSSJSCEOANRSNNICWJOSNODPXNB', ic=1.1365478686233401),\n Key(key='SCDNPSJJCRTROASOCIZQUSSESECDRXJHIIGOTOCN', ic=1.121788617886179),\n Key(key='WDOERNOSCCRUCNJASJCOCXIODIPIN', ic=1.1186843807533462)]"
     },
     "execution_count": 7,
     "metadata": {},
     "output_type": "execute_result"
    }
   ],
   "source": [
    "cipher_text = Vigenere('infosec').encrypt(original_text, keep_extra=True)\n",
    "crack_virginia(cipher_text, keep_extra=True)"
   ],
   "metadata": {
    "collapsed": false,
    "pycharm": {
     "name": "#%%\n"
    }
   }
  },
  {
   "cell_type": "markdown",
   "source": [
    "### Break from file"
   ],
   "metadata": {
    "collapsed": false,
    "pycharm": {
     "name": "#%% md\n"
    }
   }
  },
  {
   "cell_type": "code",
   "execution_count": 8,
   "outputs": [
    {
     "name": "stdout",
     "output_type": "stream",
     "text": [
      "Key length 16, IC = 1.730: MAVERICKMAVERICK\n",
      "Key length 40, IC = 1.731: MAVERICKMAVERICKMAVIRICKMAVERICKMAVERICK\n",
      "Key length 8, IC = 1.739: MAVERICK\n",
      "Key length 24, IC = 1.740: MAVERICKMAVERICKMAVERICK\n",
      "Key length 48, IC = 1.745: MAVERICKMAVERICKMAVERICKMAVERICKMAVERICKMAVERICK\n",
      "Key length 32, IC = 1.760: MAVERICKMAVERICKMAVERICKBAVERICK\n",
      "Key length 36, IC = 1.368: MICKRMVKRAVKREGUCICERNCKRWCEREVDRAGK\n",
      "Key length 20, IC = 1.345: RAVKRICZRIVERICERIVK\n",
      "Key length 28, IC = 1.343: RIWTMIVKRAVERIRERIRKRICKRAVK\n",
      "Key length 12, IC = 1.341: RICKRIVERIVK\n",
      "check file breaking_results.txt for cracking results\n"
     ]
    }
   ],
   "source": [
    "def crack_virginia_from_file(in_path, out_path):\n",
    "    with open(in_path, 'r') as in_file:\n",
    "        crack_virginia(in_file.read(), save_to=out_path)\n",
    "\n",
    "\n",
    "crack_virginia_from_file('cipher_to_break.txt', 'breaking_results.txt')"
   ],
   "metadata": {
    "collapsed": false,
    "pycharm": {
     "name": "#%%\n"
    }
   }
  },
  {
   "cell_type": "markdown",
   "source": [
    "### brute force attack"
   ],
   "metadata": {
    "collapsed": false,
    "pycharm": {
     "name": "#%% md\n"
    }
   }
  },
  {
   "cell_type": "code",
   "execution_count": 20,
   "outputs": [],
   "source": [
    "from string import ascii_uppercase\n",
    "from itertools import product\n",
    "def brute_force_vigenere(original_text, cipher_text):\n",
    "    for length in range(len(cipher_text)):\n",
    "        for key in product(ascii_uppercase, repeat=length):\n",
    "            v = Vigenere(''.join(key))\n",
    "            if v.decrypt(cipher_text) == original_text:\n",
    "                # print(f\"The keys is:{''.join(key)}\\nThe decrypted text is:\\n{v.decrypt(cipher_text)}\")\n",
    "                return 1\n",
    "    return None\n",
    "with open('ori.txt', 'r') as f:\n",
    "    v = Vigenere('info')\n",
    "    original_text = f.read()\n",
    "    original_text = alpha_only(original_text)\n",
    "    cipher_text = v.encrypt(original_text)\n",
    "    brute_force_vigenere(original_text,cipher_text)"
   ],
   "metadata": {
    "collapsed": false,
    "pycharm": {
     "name": "#%%\n"
    }
   }
  },
  {
   "cell_type": "markdown",
   "source": [
    "### 测试时间"
   ],
   "metadata": {
    "collapsed": false,
    "pycharm": {
     "name": "#%% md\n"
    }
   }
  },
  {
   "cell_type": "code",
   "execution_count": 27,
   "outputs": [
    {
     "name": "stdout",
     "output_type": "stream",
     "text": [
      "0.00016671021779378256\n",
      "0.0033726056416829428\n",
      "0.0943511168162028\n",
      "2.3974599043528237\n",
      "62.997820631663004\n"
     ]
    },
    {
     "data": {
      "text/plain": "[0.00016671021779378256,\n 0.0033726056416829428,\n 0.0943511168162028,\n 2.3974599043528237,\n 62.997820631663004]"
     },
     "execution_count": 27,
     "metadata": {},
     "output_type": "execute_result"
    }
   ],
   "source": [
    "import secrets\n",
    "import string\n",
    "from time import time\n",
    "def generate_string(length):\n",
    "    alphabet = string.ascii_letters\n",
    "    random_string = ''.join(secrets.choice(alphabet) for _ in range(length))\n",
    "    return random_string\n",
    "avg_sec = []\n",
    "with open('ori.txt', 'r') as f:\n",
    "    original_text = f.read()\n",
    "    original_text = alpha_only(original_text)\n",
    "    for k_length in range(1,6):\n",
    "        begin = time()\n",
    "        for times in range(1,31):\n",
    "            keys = generate_string(k_length)\n",
    "            v = Vigenere(keys)\n",
    "            cipher_text = v.encrypt(original_text)\n",
    "            brute_force_vigenere(original_text,cipher_text)\n",
    "        end = time()\n",
    "        avg_sec.append((end-begin)/30)\n",
    "        print((end-begin)/30)\n",
    "avg_sec"
   ],
   "metadata": {
    "collapsed": false,
    "pycharm": {
     "name": "#%%\n"
    }
   }
  },
  {
   "cell_type": "code",
   "execution_count": 49,
   "outputs": [
    {
     "data": {
      "text/plain": "<Figure size 432x288 with 1 Axes>",
      "image/png": "[encoded data removed]"
     },
     "metadata": {
      "needs_background": "light"
     },
     "output_type": "display_data"
    }
   ],
   "source": [
    "import matplotlib.pyplot as plt\n",
    "\n",
    "def plot_line_chart(data):\n",
    "    x = range(1, len(data) + 1)\n",
    "    y = data\n",
    "    plt.plot(x, y, marker='o')\n",
    "    plt.xlabel('key_length')\n",
    "    plt.ylabel('seconds')\n",
    "    plt.xticks(x)\n",
    "    plt.title('brute force attack')\n",
    "    for i, j in zip(x, y):\n",
    "        value = '{:.2g}'.format(j)\n",
    "        plt.annotate(value, xy=(i, j), xytext=(5, 5), textcoords='offset points', ha='center')\n",
    "        plt.savefig('brute force attack.jpg',dpi=300)\n",
    "    plt.show()\n",
    "\n",
    "plot_line_chart(avg_sec)\n"
   ],
   "metadata": {
    "collapsed": false,
    "pycharm": {
     "name": "#%%\n"
    }
   }
  }
 ],
 "metadata": {
  "kernelspec": {
   "display_name": "Python 3",
   "language": "python",
   "name": "python3"
  },
  "language_info": {
   "codemirror_mode": {
    "name": "ipython",
    "version": 2
   },
   "file_extension": ".py",
   "mimetype": "text/x-python",
   "name": "python",
   "nbconvert_exporter": "python",
   "pygments_lexer": "ipython2",
   "version": "2.7.6"
  }
 },
 "nbformat": 4,
 "nbformat_minor": 0
}